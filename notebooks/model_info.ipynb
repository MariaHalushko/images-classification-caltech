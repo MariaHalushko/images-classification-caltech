{
 "cells": [
  {
   "cell_type": "code",
   "execution_count": 67,
   "metadata": {},
   "outputs": [],
   "source": [
    "import keras\n",
    "from keras.models import Sequential\n",
    "from keras.layers import Dense, Activation, Conv2D\n",
    "import numpy as np"
   ]
  },
  {
   "cell_type": "code",
   "execution_count": 93,
   "metadata": {},
   "outputs": [
    {
     "name": "stdout",
     "output_type": "stream",
     "text": [
      "_________________________________________________________________\n",
      "Layer (type)                 Output Shape              Param #   \n",
      "=================================================================\n",
      "conv2d_33 (Conv2D)           (None, 10, 10, 256)       589824    \n",
      "_________________________________________________________________\n",
      "conv2d_34 (Conv2D)           (None, 10, 10, 64)        16384     \n",
      "=================================================================\n",
      "Total params: 606,208\n",
      "Trainable params: 606,208\n",
      "Non-trainable params: 0\n",
      "_________________________________________________________________\n",
      "None\n",
      "(?, 10, 10, 256)\n"
     ]
    }
   ],
   "source": [
    "# params calculation for FC layer\n",
    "# N - in features, K - out features, than trainable params:\n",
    "# N * K + K (in case of bias)\n",
    "# params calculation for the convolution\n",
    "# assume we have N kernels with 'width' and 'height' and K input features\n",
    "# than training params will be calculated as\n",
    "# K * N * width * height + N (in case of bias usage)\n",
    "# 9 params(width * height from kernel size) per filter + 1 for bias\n",
    "\n",
    "\n",
    "model = Sequential()\n",
    "# model.add(Dense(10, input_shape=(100,), use_bias=False, activation='relu'))  # matrix 10 x 100 or 10 x 101 with bias\n",
    "# model.add(Dense(10, input_shape=(100,), use_bias=True))  # matrix 10 x 100 or 10 x 101 with bias\n",
    "model.add(Conv2D(256, kernel_size=(3, 3),\n",
    "                 activation='linear',\n",
    "                 input_shape=(12, 12, 256),\n",
    "                 use_bias=False))\n",
    "model.add(Conv2D(64, kernel_size=(1, 1),\n",
    "                 activation='linear',\n",
    "                 input_shape=(3, 3, 256),\n",
    "                 use_bias=False))\n",
    "\n",
    "model.compile(optimizer='rmsprop',\n",
    "              loss='categorical_crossentropy',\n",
    "              metrics=['accuracy'])\n",
    "print(model.summary())\n",
    "print(model.layers[0].get_output_at(0).get_shape())"
   ]
  },
  {
   "cell_type": "code",
   "execution_count": 94,
   "metadata": {
    "collapsed": true
   },
   "outputs": [],
   "source": [
    "layer = model.layers[0]\n",
    "output_area = np.prod(layer.output_shape[1:-1])\n",
    "output_area = int(output_area)\n",
    "ops = np.prod(layer.kernel._keras_shape) * output_area"
   ]
  },
  {
   "cell_type": "code",
   "execution_count": 95,
   "metadata": {},
   "outputs": [
    {
     "name": "stdout",
     "output_type": "stream",
     "text": [
      "(None, 12, 12, 256)\n",
      "(None, 10, 10, 256)\n",
      "58982400\n"
     ]
    }
   ],
   "source": [
    "print(layer.input_shape)\n",
    "print(layer.output_shape)\n",
    "print(ops)"
   ]
  },
  {
   "cell_type": "code",
   "execution_count": null,
   "metadata": {
    "collapsed": true
   },
   "outputs": [],
   "source": [
    "# without 1x1 convolutions:\n",
    "# - 256x256 x 3x3 = 589,00\n",
    "# with 1x1 convolutions:\n",
    "# * \t\t256×64 × 1×1 = 16,000s\n",
    "# * \t\t64×64 × 3×3 = 36,000s\n",
    "# * \t\t64×256 × 1×1 = 16,000s"
   ]
  }
 ],
 "metadata": {
  "kernelspec": {
   "display_name": "Python 3",
   "language": "python",
   "name": "python3"
  },
  "language_info": {
   "codemirror_mode": {
    "name": "ipython",
    "version": 3
   },
   "file_extension": ".py",
   "mimetype": "text/x-python",
   "name": "python",
   "nbconvert_exporter": "python",
   "pygments_lexer": "ipython3",
   "version": "3.6.1"
  }
 },
 "nbformat": 4,
 "nbformat_minor": 2
}
